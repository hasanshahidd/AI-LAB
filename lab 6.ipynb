{
 "cells": [
  {
   "cell_type": "code",
   "execution_count": 1,
   "metadata": {},
   "outputs": [
    {
     "name": "stdout",
     "output_type": "stream",
     "text": [
      "BFS Traversal Order:\n",
      "V: A, D: 0\n",
      "V: B, D: 1\n",
      "V: D, D: 2\n",
      "V: E, D: 2\n",
      "V: F, D: 3\n",
      "V: C, D: 4\n"
     ]
    }
   ],
   "source": [
    "#lab6 Task 1: BFS without Queue & without Node\n",
    "def traverse(map, orig):\n",
    "    seen = set()\n",
    "    res = []\n",
    "    def dive(cur, lev):\n",
    "        seen.add(cur)\n",
    "        res.append((cur, lev))\n",
    "        for neb in map[cur]:\n",
    "            if neb not in seen:\n",
    "                dive(neb, lev + 1)\n",
    "    dive(orig, 0)\n",
    "    return res\n",
    "conn = {\n",
    "    'A': ['B', 'C'],\n",
    "    'B': ['A', 'D', 'E'],\n",
    "    'C': ['A', 'F'],\n",
    "    'D': ['B'],\n",
    "    'E': ['B', 'F'],\n",
    "    'F': ['C', 'E']\n",
    "}\n",
    "print(\"BFS Traversal Order:\")\n",
    "for v, d in traverse(conn, 'A'):\n",
    "    print(f\"V: {v}, D: {d}\")\n"
   ]
  },
  {
   "cell_type": "code",
   "execution_count": 3,
   "metadata": {},
   "outputs": [
    {
     "name": "stdout",
     "output_type": "stream",
     "text": [
      "BFS Traversal Order: ['A', 'B', 'C', 'D', 'E', 'F']\n"
     ]
    }
   ],
   "source": [
    "#task2 BFS with Queue & Node\n",
    "from collections import deque\n",
    "class N:\n",
    "    def __init__(self, v):\n",
    "        self.v = v\n",
    "        self.n = []\n",
    "def bfs(s):\n",
    "    q = deque([s])\n",
    "    v = set()\n",
    "    r = []\n",
    "    while q:\n",
    "        n = q.popleft()\n",
    "        if n not in v:\n",
    "            v.add(n)\n",
    "            r.append(n.v)\n",
    "            q.extend(x for x in n.n if x not in v)\n",
    "    return r\n",
    "a = N('A')\n",
    "b = N('B')\n",
    "c = N('C')\n",
    "d = N('D')\n",
    "e = N('E')\n",
    "f = N('F')\n",
    "a.n = [b, c]\n",
    "b.n = [a, d, e]\n",
    "c.n = [a, f]\n",
    "d.n = [b]\n",
    "e.n = [b, f]\n",
    "f.n = [c, e]\n",
    "print(\"BFS Traversal Order:\", bfs(a))"
   ]
  }
 ],
 "metadata": {
  "kernelspec": {
   "display_name": "base",
   "language": "python",
   "name": "python3"
  },
  "language_info": {
   "codemirror_mode": {
    "name": "ipython",
    "version": 3
   },
   "file_extension": ".py",
   "mimetype": "text/x-python",
   "name": "python",
   "nbconvert_exporter": "python",
   "pygments_lexer": "ipython3",
   "version": "3.11.5"
  }
 },
 "nbformat": 4,
 "nbformat_minor": 2
}
