{
 "cells": [
  {
   "cell_type": "code",
   "execution_count": 1,
   "metadata": {},
   "outputs": [
    {
     "name": "stdout",
     "output_type": "stream",
     "text": [
      "A* Path: [(0, 0), (1, 0), (2, 0), (3, 0), (4, 0), (4, 1), (4, 2), (4, 3), (4, 4), (4, 5)]\n"
     ]
    }
   ],
   "source": [
    "#Code of A* Algorithm (without importing any library)\n",
    "class N:\n",
    "    def __init__(self, x, y, c, p):\n",
    "        self.x = x\n",
    "        self.y = y\n",
    "        self.c = c\n",
    "        self.p = p\n",
    "def h(n, g):\n",
    "    return abs(n.x - g[0]) + abs(n.y - g[1])\n",
    "def astar(s, g, m):\n",
    "    o = []\n",
    "    c = set()\n",
    "    n = N(s[0], s[1], 0, None)\n",
    "    o.append(n)\n",
    "    while o:\n",
    "        n = min(o, key=lambda x: x.c + h(x, g))\n",
    "        o.remove(n)\n",
    "        c.add((n.x, n.y))\n",
    "        if (n.x, n.y) == g:\n",
    "            p = []\n",
    "            while n:\n",
    "                p.append((n.x, n.y))\n",
    "                n = n.p\n",
    "            return p[::-1]\n",
    "        for dx, dy in [(1, 0), (-1, 0), (0, 1), (0, -1)]:\n",
    "            x, y = n.x + dx, n.y + dy\n",
    "            if 0 <= x < len(m) and 0 <= y < len(m[0]) and m[x][y] != 1:\n",
    "                nn = N(x, y, n.c + 1, n)\n",
    "                if (x, y) not in c:\n",
    "                    o.append(nn)\n",
    "    return None\n",
    "\n",
    "m = [\n",
    "    [0, 0, 0, 0, 1, 0],\n",
    "    [0, 1, 1, 0, 1, 0],\n",
    "    [0, 0, 0, 0, 0, 0],\n",
    "    [0, 1, 0, 0, 1, 0],\n",
    "    [0, 0, 0, 0, 0, 0]\n",
    "]\n",
    "s = (0, 0)\n",
    "g = (4, 5)\n",
    "p = astar(s, g, m)\n",
    "if p:\n",
    "    print(\"A* Path:\", p)\n",
    "else:\n",
    "    print(\"No path found\")"
   ]
  }
 ],
 "metadata": {
  "kernelspec": {
   "display_name": "base",
   "language": "python",
   "name": "python3"
  },
  "language_info": {
   "codemirror_mode": {
    "name": "ipython",
    "version": 3
   },
   "file_extension": ".py",
   "mimetype": "text/x-python",
   "name": "python",
   "nbconvert_exporter": "python",
   "pygments_lexer": "ipython3",
   "version": "3.11.5"
  }
 },
 "nbformat": 4,
 "nbformat_minor": 2
}
