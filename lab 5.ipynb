{
 "cells": [
  {
   "cell_type": "code",
   "execution_count": 1,
   "metadata": {},
   "outputs": [
    {
     "name": "stdout",
     "output_type": "stream",
     "text": [
      "A C B D "
     ]
    }
   ],
   "source": [
    "#Lab 5 Task 1: DFS with Stack & Node\n",
    "\n",
    "class Node:\n",
    "    def __init__(self, val):\n",
    "        self.val = val\n",
    "        self.visited = False\n",
    "        self.neighbors = []\n",
    "class Graph:\n",
    "    def __init__(self):\n",
    "        self.nodes = []\n",
    "    def add_node(self, val):\n",
    "        node = Node(val)\n",
    "        self.nodes.append(node)\n",
    "        return node\n",
    "    def add_edge(self, n1, n2):\n",
    "        n1.neighbors.append(n2)\n",
    "        n2.neighbors.append(n1)\n",
    "    def dfs(self, start):\n",
    "        stack = [start]\n",
    "        start.visited = True\n",
    "        while stack:\n",
    "            current = stack.pop()\n",
    "            print(current.val, end=\" \")\n",
    "            for neighbor in current.neighbors:\n",
    "                if not neighbor.visited:\n",
    "                    stack.append(neighbor)\n",
    "                    neighbor.visited = True\n",
    "g = Graph()\n",
    "apple = g.add_node('A')\n",
    "banana = g.add_node('B')\n",
    "cherry = g.add_node('C')\n",
    "date = g.add_node('D')\n",
    "g.add_edge(apple, banana)\n",
    "g.add_edge(apple, cherry)\n",
    "g.add_edge(banana, date)\n",
    "g.dfs(apple)\n"
   ]
  },
  {
   "cell_type": "code",
   "execution_count": 2,
   "metadata": {},
   "outputs": [
    {
     "name": "stdout",
     "output_type": "stream",
     "text": [
      "Preorder DFS:\n",
      "1 2 4 5 3 6 7 \n",
      "Inorder DFS:\n",
      "4 2 5 1 6 3 7 \n",
      "Postorder DFS:\n",
      "4 5 2 6 7 3 1 "
     ]
    }
   ],
   "source": [
    "#Task2:In order,Pre order,Post order in dfs\n",
    "\n",
    "#Pre order Traversal\n",
    "#In Pre order traversal, the parent node is visited first, followed by the left child and then the right child.\n",
    "#Order: Parent -> Left -> Right\n",
    "\n",
    "#In order Traversal\n",
    "#In In order traversal, the left child is visited first, followed by the parent node and then the right child.\n",
    "#Order: Left -> Parent -> Right\n",
    "\n",
    "\n",
    "#Post order Traversal\n",
    "#In Post order traversal, the left and right children are visited first, followed by the parent node.\n",
    "#Order: Left -> Right -> Parent\n",
    "\n",
    "\n",
    "\n",
    "class TreeNode:\n",
    "    def __init__(self, data):\n",
    "        self.data = data\n",
    "        self.left_child = None\n",
    "        self.right_child = None\n",
    "def preorder_dfs(node):\n",
    "    if node:\n",
    "        print(node.data, end=\" \")\n",
    "        preorder_dfs(node.left_child)\n",
    "        preorder_dfs(node.right_child)\n",
    "def inorder_dfs(node):\n",
    "    if node:\n",
    "        inorder_dfs(node.left_child)\n",
    "        print(node.data, end=\" \")\n",
    "        inorder_dfs(node.right_child)\n",
    "def postorder_dfs(node):\n",
    "    if node:\n",
    "        postorder_dfs(node.left_child)\n",
    "        postorder_dfs(node.right_child)\n",
    "        print(node.data, end=\" \")\n",
    "if __name__ == \"__main__\":\n",
    "    root_node = TreeNode(1)\n",
    "    root_node.left_child = TreeNode(2)\n",
    "    root_node.right_child = TreeNode(3)\n",
    "    root_node.left_child.left_child = TreeNode(4)\n",
    "    root_node.left_child.right_child = TreeNode(5)\n",
    "    root_node.right_child.left_child = TreeNode(6)\n",
    "    root_node.right_child.right_child = TreeNode(7)\n",
    "\n",
    "    print(\"Preorder DFS:\")\n",
    "    preorder_dfs(root_node)\n",
    "    print(\"\\nInorder DFS:\")\n",
    "    inorder_dfs(root_node)\n",
    "    print(\"\\nPostorder DFS:\")\n",
    "    postorder_dfs(root_node)\n",
    "\n",
    "\n",
    "\n"
   ]
  }
 ],
 "metadata": {
  "kernelspec": {
   "display_name": "base",
   "language": "python",
   "name": "python3"
  },
  "language_info": {
   "codemirror_mode": {
    "name": "ipython",
    "version": 3
   },
   "file_extension": ".py",
   "mimetype": "text/x-python",
   "name": "python",
   "nbconvert_exporter": "python",
   "pygments_lexer": "ipython3",
   "version": "3.11.5"
  }
 },
 "nbformat": 4,
 "nbformat_minor": 2
}
