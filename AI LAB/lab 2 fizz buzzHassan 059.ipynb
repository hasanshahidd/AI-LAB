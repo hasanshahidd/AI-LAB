{
 "cells": [
  {
   "cell_type": "code",
   "execution_count": 1,
   "metadata": {},
   "outputs": [
    {
     "name": "stdout",
     "output_type": "stream",
     "text": [
      "Current Total: 52\n",
      "New Number: 9\n",
      "Current Total: 61\n",
      "New Number: 99\n",
      "Current Total: 160\n",
      "Buzz\n"
     ]
    }
   ],
   "source": [
    "import random\n",
    "\n",
    "def fizz_buzz_game():\n",
    "    total = random.randint(1, 100)\n",
    "    play_again = 'yes'\n",
    "\n",
    "    while play_again.lower() == 'yes':\n",
    "        print(f\"Current Total: {total}\")\n",
    "        \n",
    "        if total % 3 == 0 and total % 5 == 0:\n",
    "            print(\"FizzBuzz\")\n",
    "        elif total % 3 == 0:\n",
    "            print(\"Fizz\")\n",
    "        elif total % 5 == 0:\n",
    "            print(\"Buzz\")\n",
    "        \n",
    "        play_again = input(\"Do you want to continue? (yes/no): \")\n",
    "        \n",
    "        if play_again.lower() == 'yes':\n",
    "            new_number = random.randint(1, 100)\n",
    "            print(f\"New Number: {new_number}\")\n",
    "            total += new_number\n",
    "\n",
    "fizz_buzz_game()"
   ]
  },
  {
   "cell_type": "code",
   "execution_count": 1,
   "metadata": {},
   "outputs": [
    {
     "name": "stdout",
     "output_type": "stream",
     "text": [
      "Average expense: $166,692,500.00\n",
      "\n",
      "movies with expenses higher than the average:\n",
      "Pirates of the Caribbean: On Stranger Tides: $212,307,500.00 above average\n",
      "Avengers: Age of Ultron: $198,307,500.00 above average\n",
      "Avengers: Endgame: $189,307,500.00 above average\n",
      "Incredibles 2: $33,307,500.00 above average\n",
      "\n",
      "Number of movies and their expenses above average: 4\n"
     ]
    }
   ],
   "source": [
    "#mini project 2\n",
    "movies = [\n",
    "    (\"Eternal Sunshine of the Spotless Mind\", 20000000),\n",
    "    (\"Memento\", 9000000),\n",
    "    (\"Requiem for a Dream\", 4500000),\n",
    "    (\"Pirates of the Caribbean: On Stranger Tides\", 379000000),\n",
    "    (\"Avengers: Age of Ultron\", 365000000),\n",
    "    (\"Avengers: Endgame\", 356000000),\n",
    "    (\"Incredibles 2\", 200000000)\n",
    "]\n",
    "\n",
    "def calc_avg_expense(films):\n",
    "    total_expense = sum(cost for _, cost in films)\n",
    "    return total_expense / len(films)\n",
    "\n",
    "\n",
    "def find_high_spenders(films, avg_expense):\n",
    "    high_spenders = []\n",
    "    for title, cost in films:\n",
    "        if cost > avg_expense:\n",
    "            high_spenders.append((title, cost - avg_expense))\n",
    "    return high_spenders\n",
    "\n",
    "\n",
    "def main():\n",
    "    add_more = input(\"Add more films? (yes/no): \")\n",
    "    if add_more.lower() == \"yes\":\n",
    "        num_additions = int(input(\"How many films to add?: \"))\n",
    "        for _ in range(num_additions):\n",
    "            film_title = input(\"Enter film title: \")\n",
    "            film_cost = int(input(\"Enter film cost: \"))\n",
    "            movies.append((film_title, film_cost))\n",
    "    \n",
    "    avg_expense = calc_avg_expense(movies)\n",
    "    print(f\"Average expense: ${avg_expense:,.2f}\")\n",
    "    \n",
    "    high_spenders = find_high_spenders(movies, avg_expense)\n",
    "    print(\"\\nmovies with expenses higher than the average:\")\n",
    "    for title, excess_expense in high_spenders:\n",
    "        print(f\"{title}: ${excess_expense:,.2f} above average\")\n",
    "    print(f\"\\nNumber of movies and their expenses above average: {len(high_spenders)}\")\n",
    "\n",
    "\n",
    "if __name__ == \"__main__\":\n",
    "    main()\n",
    "\n",
    "\n"
   ]
  }
 ],
 "metadata": {
  "kernelspec": {
   "display_name": "base",
   "language": "python",
   "name": "python3"
  },
  "language_info": {
   "codemirror_mode": {
    "name": "ipython",
    "version": 3
   },
   "file_extension": ".py",
   "mimetype": "text/x-python",
   "name": "python",
   "nbconvert_exporter": "python",
   "pygments_lexer": "ipython3",
   "version": "3.11.5"
  }
 },
 "nbformat": 4,
 "nbformat_minor": 2
}
