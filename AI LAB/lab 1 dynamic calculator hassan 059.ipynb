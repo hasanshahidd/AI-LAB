{
 "cells": [
  {
   "cell_type": "code",
   "execution_count": 5,
   "metadata": {},
   "outputs": [
    {
     "name": "stdout",
     "output_type": "stream",
     "text": [
      "Final Solution: 16.9\n"
     ]
    }
   ],
   "source": [
    "import re\n",
    "\n",
    "class Calc:\n",
    "    def __init__(self, expr):\n",
    "        self.expr = expr\n",
    "\n",
    "    def sanitize(self):\n",
    "        self.expr = self.expr.replace(' ', '')\n",
    "        self.expr = re.sub(r'(\\d)(\\()', r'\\1*\\2', self.expr)\n",
    "\n",
    "    def eval(self):\n",
    "        try:\n",
    "            return eval(self.expr)\n",
    "        except Exception as e:\n",
    "            return f\"Error: {str(e)}\"\n",
    "\n",
    "    def calc(self):\n",
    "        self.sanitize()\n",
    "        return self.eval()\n",
    "\n",
    "prob = \"1+2*3*(4-5/4)-(3/5)\"\n",
    "calc = Calc(prob)\n",
    "sol = calc.calc()\n",
    "print(f\"Final Solution: {sol}\")"
   ]
  }
 ],
 "metadata": {
  "kernelspec": {
   "display_name": "Python 3",
   "language": "python",
   "name": "python3"
  },
  "language_info": {
   "codemirror_mode": {
    "name": "ipython",
    "version": 3
   },
   "file_extension": ".py",
   "mimetype": "text/x-python",
   "name": "python",
   "nbconvert_exporter": "python",
   "pygments_lexer": "ipython3",
   "version": "3.11.5"
  }
 },
 "nbformat": 4,
 "nbformat_minor": 2
}
