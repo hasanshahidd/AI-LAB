{
 "cells": [
  {
   "cell_type": "code",
   "execution_count": 1,
   "metadata": {},
   "outputs": [
    {
     "name": "stdout",
     "output_type": "stream",
     "text": [
      "400000000400 is not valid.\n"
     ]
    }
   ],
   "source": [
    "#task 1\n",
    "def luhn_algorithm(number):\n",
    "    \n",
    "    digits = [int(d) for d in str(number)]\n",
    "    digits = digits[::-1]\n",
    "    for i in range(1, len(digits), 2):\n",
    "        digits[i] *= 2\n",
    "        if digits[i] > 9:\n",
    "            digits[i] -= 9\n",
    "    return sum(digits) % 10 == 0\n",
    "\n",
    "# usage:\n",
    "number = \"400000000400\"\n",
    "if luhn_algorithm(number):\n",
    "    print(f\"{number} is valid.\")\n",
    "else:\n",
    "    print(f\"{number} is not valid.\")\n",
    "\n"
   ]
  },
  {
   "cell_type": "code",
   "execution_count": 2,
   "metadata": {},
   "outputs": [
    {
     "name": "stdout",
     "output_type": "stream",
     "text": [
      "Cleaned String: h\n",
      "Cleaned String: h\n"
     ]
    }
   ],
   "source": [
    "#task 2\n",
    "import string\n",
    "\n",
    "def purge(a):\n",
    "    translator = str.maketrans('', '', string.punctuation)\n",
    "    return a.translate(translator)\n",
    "\n",
    "b = input(\"Enter a string: \")\n",
    "c = purge(b)\n",
    "print(\"Cleaned String:\", c)\n",
    "\n",
    "\n",
    "def filter(d):\n",
    "    return ''.join([e for e in d if e not in string.punctuation])\n",
    "\n",
    "f = input(\"Enter a string: \")\n",
    "g = filter(f)\n",
    "print(\"Cleaned String:\", g)"
   ]
  },
  {
   "cell_type": "code",
   "execution_count": 3,
   "metadata": {},
   "outputs": [
    {
     "name": "stdout",
     "output_type": "stream",
     "text": [
      "Alphabetical Order: aahnss\n",
      "Alphabetical Order:         A A H N S\n"
     ]
    }
   ],
   "source": [
    "#task3\n",
    "def arrange(m):\n",
    "    n = list(m)\n",
    "    for i in range(len(n)):\n",
    "        for j in range(i+1, len(n)):\n",
    "            if n[i] > n[j]:\n",
    "                n[i], n[j] = n[j], n[i]\n",
    "    return ''.join(n)\n",
    "\n",
    "p = input(\"Enter a word: \")\n",
    "q = arrange(p)\n",
    "print(\"Alphabetical Order:\", q)\n",
    "\n",
    "def order(r):\n",
    "    s = list(r)\n",
    "    for i in range(len(s)):\n",
    "        for j in range(i+1, len(s)):\n",
    "            if s[i].lower() > s[j].lower():\n",
    "                s[i], s[j] = s[j], s[i]\n",
    "    return ' '.join(s)\n",
    "\n",
    "t = input(\"Enter words separated by spaces: \")\n",
    "u = order(t)\n",
    "print(\"IN Order:\", u)"
   ]
  }
 ],
 "metadata": {
  "kernelspec": {
   "display_name": "base",
   "language": "python",
   "name": "python3"
  },
  "language_info": {
   "codemirror_mode": {
    "name": "ipython",
    "version": 3
   },
   "file_extension": ".py",
   "mimetype": "text/x-python",
   "name": "python",
   "nbconvert_exporter": "python",
   "pygments_lexer": "ipython3",
   "version": "3.11.5"
  }
 },
 "nbformat": 4,
 "nbformat_minor": 2
}
